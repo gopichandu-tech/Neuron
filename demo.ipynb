{
 "cells": [
  {
   "cell_type": "code",
   "execution_count": 1,
   "metadata": {},
   "outputs": [],
   "source": [
    "import numpy as np"
   ]
  },
  {
   "cell_type": "code",
   "execution_count": 8,
   "metadata": {},
   "outputs": [
    {
     "ename": "ModuleNotFoundError",
     "evalue": "No module named 'utils'",
     "output_type": "error",
     "traceback": [
      "\u001b[1;31m---------------------------------------------------------------------------\u001b[0m",
      "\u001b[1;31mModuleNotFoundError\u001b[0m                       Traceback (most recent call last)",
      "\u001b[1;32m~\\AppData\\Local\\Temp/ipykernel_17064/3359115504.py\u001b[0m in \u001b[0;36m<module>\u001b[1;34m\u001b[0m\n\u001b[0;32m      1\u001b[0m \u001b[1;32mimport\u001b[0m \u001b[0mpandas\u001b[0m \u001b[1;32mas\u001b[0m \u001b[0mpd\u001b[0m\u001b[1;33m\u001b[0m\u001b[1;33m\u001b[0m\u001b[0m\n\u001b[0;32m      2\u001b[0m \u001b[1;33m\u001b[0m\u001b[0m\n\u001b[1;32m----> 3\u001b[1;33m \u001b[1;32mfrom\u001b[0m \u001b[0mutils\u001b[0m\u001b[1;33m.\u001b[0m\u001b[0mmodel\u001b[0m \u001b[1;32mimport\u001b[0m \u001b[0mPerceptron\u001b[0m\u001b[1;33m\u001b[0m\u001b[1;33m\u001b[0m\u001b[0m\n\u001b[0m\u001b[0;32m      4\u001b[0m \u001b[1;32mfrom\u001b[0m \u001b[0mutils\u001b[0m\u001b[1;33m.\u001b[0m\u001b[0mall_utils\u001b[0m \u001b[1;32mimport\u001b[0m \u001b[0mprepare_data\u001b[0m\u001b[1;33m,\u001b[0m \u001b[0msave_model\u001b[0m\u001b[1;33m,\u001b[0m \u001b[0msave_plot\u001b[0m\u001b[1;33m\u001b[0m\u001b[1;33m\u001b[0m\u001b[0m\n\u001b[0;32m      5\u001b[0m \u001b[1;33m\u001b[0m\u001b[0m\n",
      "\u001b[1;31mModuleNotFoundError\u001b[0m: No module named 'utils'"
     ]
    }
   ],
   "source": [
    "import pandas as pd\n",
    "\n",
    "from utils.model import Perceptron\n",
    "from utils.all_utils import prepare_data, save_model, save_plot\n",
    "\n",
    "OR = {\n",
    "    \"x1\": [0,0,1,1],\n",
    "    \"x2\": [0,1,0,1],\n",
    "    \"y\": [0,1,1,1],\n",
    "}\n",
    "\n",
    "df = pd.DataFrame(OR)\n",
    "\n",
    "df\n",
    "\n",
    "\n",
    "X,y = prepare_data(df)\n",
    "\n",
    "ETA = 0.3 # 0 and 1\n",
    "EPOCHS = 10\n",
    "\n",
    "model_OR = Perceptron(eta=ETA, epochs=EPOCHS)\n",
    "model_OR.fit(X, y)\n",
    "\n",
    "_ = model_OR.total_loss()\n",
    "\n",
    "\n",
    "save_model(model_OR, filename=\"or.model\")\n",
    "save_plot(df, \"or.png\", model_OR)"
   ]
  }
 ],
 "metadata": {
  "interpreter": {
   "hash": "b8f57af9d6a4f3a08e4adaf10f4d77218fb23801837d2bfdbcded4b5664a57a0"
  },
  "kernelspec": {
   "display_name": "Python 3.7.11 64-bit ('oneNeuron': conda)",
   "name": "python3"
  },
  "language_info": {
   "codemirror_mode": {
    "name": "ipython",
    "version": 3
   },
   "file_extension": ".py",
   "mimetype": "text/x-python",
   "name": "python",
   "nbconvert_exporter": "python",
   "pygments_lexer": "ipython3",
   "version": "3.7.11"
  }
 },
 "nbformat": 4,
 "nbformat_minor": 5
}
